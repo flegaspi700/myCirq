{
 "metadata": {
  "language_info": {
   "codemirror_mode": {
    "name": "ipython",
    "version": 3
   },
   "file_extension": ".py",
   "mimetype": "text/x-python",
   "name": "python",
   "nbconvert_exporter": "python",
   "pygments_lexer": "ipython3",
   "version": "3.8.5-final"
  },
  "orig_nbformat": 2,
  "kernelspec": {
   "name": "python385jvsc74a57bd04c31ef7b175fe51af5f4614396c8486b9f606d30cac09246de2f8f4486683129",
   "display_name": "Python 3.8.5 64-bit (conda)"
  }
 },
 "nbformat": 4,
 "nbformat_minor": 2,
 "cells": [
  {
   "cell_type": "code",
   "execution_count": 1,
   "metadata": {},
   "outputs": [
    {
     "output_type": "stream",
     "name": "stdout",
     "text": [
      "installing cirq...\n",
      "installed cirq.\n",
      "  WARNING: The script isympy.exe is installed in 'C:\\Users\\cttin\\miniconda3\\Scripts' which is not on PATH.\n",
      "  Consider adding this directory to PATH or, if you prefer to suppress this warning, use --no-warn-script-location.\n"
     ]
    }
   ],
   "source": [
    "try:\n",
    "    import cirq\n",
    "except ImportError:\n",
    "    print(\"installing cirq...\")\n",
    "    !pip install --quiet cirq\n",
    "    print(\"installed cirq.\")"
   ]
  },
  {
   "cell_type": "code",
   "execution_count": 2,
   "metadata": {},
   "outputs": [
    {
     "output_type": "stream",
     "name": "stdout",
     "text": [
      "myqubit: ───H───\nresult:\nmeasurements: (no measurements)\noutput vector: 0.707|0⟩ + 0.707|1⟩\n"
     ]
    }
   ],
   "source": [
    "import cirq\n",
    "\n",
    "qubit = cirq.NamedQubit(\"myqubit\")\n",
    "\n",
    "# creates an equal superposition of |0> and |1> when simulated\n",
    "circuit = cirq.Circuit(cirq.H(qubit))\n",
    "\n",
    "# see the \"myqubit\" identifier at the left of the circuit\n",
    "print(circuit)\n",
    "\n",
    "# run simulation\n",
    "result = cirq.Simulator().simulate(circuit)\n",
    "\n",
    "print(\"results:\")\n",
    "print(result)"
   ]
  },
  {
   "cell_type": "code",
   "execution_count": null,
   "metadata": {},
   "outputs": [],
   "source": []
  }
 ]
}