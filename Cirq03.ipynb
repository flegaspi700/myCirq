{
 "metadata": {
  "language_info": {
   "codemirror_mode": {
    "name": "ipython",
    "version": 3
   },
   "file_extension": ".py",
   "mimetype": "text/x-python",
   "name": "python",
   "nbconvert_exporter": "python",
   "pygments_lexer": "ipython3",
   "version": "3.8.5-final"
  },
  "orig_nbformat": 2,
  "kernelspec": {
   "name": "python385jvsc74a57bd04c31ef7b175fe51af5f4614396c8486b9f606d30cac09246de2f8f4486683129",
   "display_name": "Python 3.8.5 64-bit (conda)"
  }
 },
 "nbformat": 4,
 "nbformat_minor": 2,
 "cells": [
  {
   "cell_type": "code",
   "execution_count": null,
   "metadata": {},
   "outputs": [],
   "source": [
    "try:\n",
    "    import cirq\n",
    "except ImportError:\n",
    "    print(\"installing cirq...\")\n",
    "    !pip install --quiet cirq\n",
    "    print(\"installed cirq.\")"
   ]
  },
  {
   "source": [
    "A qubit is the basic unit of quantum information, a quantum bit: a two level system that can exist in superposition of those two possible states. Cirq also supports higher dimensional systems, so called qudits that we won't cover here.\n",
    "\n",
    "In Cirq, a Qubit is nothing else than an abstract object that has an identifier, a cirq.Qid and some other potential metadata to represent device specific properties that can be used to validate a circuit. In contrast to real qubits, the Cirq qubit does not have any state. The reason for this is that the actual state of the qubit or qubits is maintained in the quantum processor, or, in case of simulation, in the simulated state vector."
   ],
   "cell_type": "markdown",
   "metadata": {}
  },
  {
   "source": [
    "cirq.NamedQubit - an abstract qubit that only has a name, nothing else. Use this when you don't need anything else and you don't need to create too many qubits in bulk.\n",
    "\n",
    "cirq.LineQubit - a qubit that is identified by an integer index in a line. Some devices have lines of qubits, LineQubit can be useful to represent that. Also cirq.LineQubit.range(3) is a very easy way to create 3 qubits.\n",
    "\n",
    "cirq.LineQubit - a qubit that is identified by an integer index in a line. Some devices have lines of qubits, LineQubit can be useful to represent that. Also cirq.LineQubit.range(3) is a very easy way to create 3 qubits.\n",
    "\n",
    "Some providers provide their own qubit types. For example Pasqal defines a TwoDQubit and a ThreeDQubit to represent the specific topology of neutral atoms when validating circuits."
   ],
   "cell_type": "markdown",
   "metadata": {}
  },
  {
   "cell_type": "code",
   "execution_count": null,
   "metadata": {},
   "outputs": [],
   "source": [
    "import cirq\n",
    "\n",
    "qubit = cirq.NamedQubit(\"myqubit\")\n",
    "\n",
    "# creates an equal superposition of |0> and |1> when simulated\n",
    "circuit = cirq.Circuit(cirq.H(qubit))\n",
    "\n",
    "# see the \"myqubit\" identifier at the left of the circuit\n",
    "print(circuit)\n",
    "\n",
    "# run simulation\n",
    "result = cirq.Simulator().simulate(circuit)\n",
    "\n",
    "print(\"result:\")\n",
    "print(result)"
   ]
  }
 ]
}